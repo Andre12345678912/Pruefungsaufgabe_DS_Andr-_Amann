{
 "cells": [
  {
   "cell_type": "markdown",
   "metadata": {},
   "source": [
    "# Arbeitslosenrate mit Bildungslevel\n",
    "Autor: André Amann (5839020), 12.12.21\n",
    "\n",
     "\n",
    "---\n",
    "\n",
    
    "## Aufgaben\n",
    "<ol start=\"0\">\n",
    "  <li> Daten Sammeln und herunterladen</li>\n",
    "  <li> Daten über die Bildungsrate und Arbeitslosigkeit betrachten</li>\n",
    "  <li> Lineare Regression.</li>\n",
    "  <li> RSS vs. polyfit.</li>\n",
    "  <li> Bootstrap zwischen Bildungsrate und Arbeitslosenrate</li>\n",
    "  <li> Bootstrap regressions.</li>\n",
    "  <li> Hypothesentest der Pearson Korrelation.</li>\n",
    "  <li> Ergebnisse und Fazit.</li>\n",
    "</ol>"
   ]
  },
  
  {
   "cell_type": "markdown",
   "metadata": {},
   "source": [
    "# Aufgabe 1\n",
    "\n",
    "---------------------------------------------\n",
    "\n",
    "## Ergebnisse\n",
    "- Daten und Spaltennamen sind verschieden .\n",
    "- Eurostat Daten beinhalten mehr Länder als OECD Daten\n",
    "- Eurostat Daten sind ein wenig anders bei Deutschland.\n",
    "\n",
    
    "## Nächster Schritt:\n",
    "- Spaltennamen normalisieren\n",
    "- Deutschland von eurostat extrahieren.\n",
    "- Alle drei Datensätze in einen mergen.\n",
    "- Speichern des gemergten Datensatzes in `unemployment_edu.csv`."
   ]
  },
   {
   "cell_type": "code",
   "execution_count": 1,
   "metadata": {},
   "outputs": [],
   "source": [
    "eurostat = Path(\"rawdata\", \"eurostat\")\n",
    "eurostat_data = read_raw_data(low_file=eurostat.joinpath(\"EuroStat_Low_Germany.csv\"),\n",
    "                              middle_file=eurostat.joinpath(\"EuroStat_Middle_Germany.csv\"),\n",
    "                              high_file=eurostat.joinpath(\"EuroStat_High_Germany.csv\"))\n",
    "print(\"EUROSTAT\\n=============\")\n",
    "display(eurostat_data[\"Low\"])\n",
    "print(eurostat_data[\"Low\"][\"GEO\"].unique())\n",
    "df = eurostat_data[\"Low\"]\n",
    "eurostat_germany_low = df.loc[df[\"GEO\"] == \"Germany (until 1990 former territory of the FRG)\"]\n",
    "eurostat_germany_low[\"TIME\"] = eurostat_germany_low[\"TIME\"].astype(int)\n",
    "eurostat_germany_low[\"Value\"] = eurostat_germany_low[\"Value\"].astype(float)\n",
    "plt.xlabel(\"Years\")\n",
    "plt.ylabel(\"Unemployes population in \\%\")\n",
    "plt.plot(\"TIME\", \"Value\", data=eurostat_germany_low, label=\"Eurostat | Germany | Low\")\n",
    "oecd = Path(\"rawdata\", \"oecd\")\n",
    "oecd_data = read_raw_data(low_file=oecd.joinpath(\"OECD_Low_Germany_USA.csv\"),\n",
    "                          middle_file=oecd.joinpath(\"OECD_Middle_Germany_USA.csv\"),\n",
    "                          high_file=oecd.joinpath(\"OECD_High_Germany_USA.csv\"))\n",
    "print(\"\\nOECD\\n=============\")\n",
    "display(oecd_data[\"Low\"])\n",
    "print(oecd_data[\"Low\"][\"LOCATION\"].unique())\n",
    "df = oecd_data[\"Low\"]\n",
    "oecd_data_low = df.loc[df[\"LOCATION\"] == \"DEU\"]\n",
    "oecd_data_low[\"TIME\"] = oecd_data_low[\"TIME\"].astype(int)\n",
    "oecd_data_low[\"Value\"] = oecd_data_low[\"Value\"].astype(float)\n",
    "plt.plot(\"TIME\", \"Value\", data=oecd_data_low, label=\"OECD | Germany | Low\")\n",
    "plt.title(\"OECD vs eurostat (Germany, low education)\")\n",
    "plt.legend()\n",
    "plt.show()\n"
   ]
   },
  {
   "cell_type": "markdown",
   "metadata": {},
   "source": [
    "## Mergen und säubern der Daten\n",
    "\n",
    "Mergen der Datensätze eurostat und OECD und sichern des normalisierten Datensatzes in `unemployment_edu.csv`."
   ]
  },
   {
   "cell_type": "code",
   "execution_count": 2,
   "metadata": {},
   "outputs": [],
   "source": [
    "clean_data = merge_and_clean_data(eurostat_data, oecd_data)\n",
    "display(clean_data)\n",
    "clean_data.to_csv(\"unemployment_edu.csv\")\n",
    "plot_data(clean_data, \"USA\")\n",
    "plot_data(clean_data, \"Germany\")"
    ]
   },
  {
   "cell_type": "markdown",
   "metadata": {},
   "source": [
    "## Pearson Koeffizient\n",
    "\n",
    "Schauen ob eine Korrelation zwischen Arbeitslosenrate mit Personen niedriger, mittlerer und hoher Bildung in einem Land besteht.\n",
    "\n",
    "## Ergebnisse\n",
    "- Alle Arbeitslosenraten korrelieren miteinander (pearson > 0)\n",
    "  - Die Kurven passen zueinander bis zu einem gewissen Punkt -> Arbeitslosenraten sind auch Zeitabhängig."
   ]
  },
  {
   "cell_type": "code",
   "execution_count": 3,
   "metadata": {},
   "outputs": [
    {
     "name": "stdout",
     "output_type": "stream",
     "text": [
      "USA 0.9691689314586223 0.9628178522127707\n",
      "\n",
      "Germany 0.9666440312284225 0.911975489026696\n"
     ]
    }
   ],
   "source": [
    "usa1 = pearson_r(clean_data[\"USA - Low\"], clean_data[\"USA - Middle\"])\n",
    "usa2 = pearson_r(clean_data[\"USA - Low\"], clean_data[\"USA - High\"])\n",
    "print(\"USA\", usa1, usa2)",
    "germ1 = pearson_r(clean_data[\"Germany - Low\"], clean_data[\"Germany - Middle\"])\n",
    "germ2 = pearson_r(clean_data[\"Germany - Low\"], clean_data[\"Germany - High\"])\n",
    "print(\"Germany\", germ1, germ2)\n"
   ]
  },
  {
   "cell_type": "markdown",
   "metadata": {},
   "source": [
    "# Aufgabe 2 und 3\n",
    "\n",
    "-------------------------------\n",
    "\n",
    "## Lineare Regression\n",
    "\n",
    "Ausführen einer Linearen Regression mit `np.polyfit`.\n",
    "\n",
    "## Ergebnisse\n",
    "- Eindimensionale lineare Regression passt nicht zu USA Daten. \n",
    "  - 3D passt besser.\n",
    "- Lineare Regression passt zu den Deutschland Daten.\n",
    " - Slope: Arbeitslos Delta in Prozent für 1 Jahr.\n",
    " - Intercept: Akkumulierte Arbeitslos Prozentsatz im Jahr 0.\n",
    "- Wenn Slope positiv ist, steigt die Arbeitslosenrate im Laufe der Zeit.\n",
    "- Wenn Slope negativ ist, fällt die Arbeitsloserate im Laufe der Zeit."
   ]
  },
  {
   "cell_type": "code",
   "execution_count": 4,
   "metadata": {},
   "outputs": [],
   "source": [
    "plot_linear_regression(clean_data[\"Year\"].dt.year, clean_data[\"USA - Low\"], \"USA | Low education\")\n",
    "plot_linear_regression(clean_data[\"Year\"].dt.year, clean_data[\"USA - Middle\"], \"USA | Middle education\")\n",
    "plot_linear_regression(clean_data[\"Year\"].dt.year, clean_data[\"USA - High\"], \"USA | High education\")\n",
    "plot_linear_regression(clean_data[\"Year\"].dt.year, clean_data[\"Germany - Low\"], \"Germany | Low education\")\n",
    "plot_linear_regression(clean_data[\"Year\"].dt.year, clean_data[\"Germany - Middle\"], \"Germany | Middle education\")\n",
    "plot_linear_regression(clean_data[\"Year\"].dt.year, clean_data[\"Germany - High\"], \"Germany | High education\")"
   ]
  },
  {
   "cell_type": "markdown",
   "metadata": {},
   "source": [
    "## Vergleich RSS mit np.polyfit\n",
    "\n",
    "RSS berechnen:\n",
    "- Leeren Arry für slopes erzeugen.\n",
    "- RSS mit slopes Array berechnen : `np.sum((y - a * x - b) ** 2)`.\n",
    "\n",
    "## Ergebnisse\n",
    "- RSS ist ziemlich hoch in den USA und niedrig in Deutschland.\n",
    "  - USA Datensatz passt nicht so gut wie Deutschland zum linearen Regressionsmodell.\n"
   ]
  },
  {
   "cell_type": "code",
   "execution_count": 5,
   "metadata": {},
   "outputs": [],
   "source": [
    "\n",
    "for country in [\"USA\", \"Germany\"]:\n",
    "    for education in [\"Low\", \"Middle\", \"High\"]:\n",
    "        linear_regression_vs_rss(clean_data[\"Year\"].dt.year, clean_data[F\"{country} - {education}\"], F\"{country} | {education} education\")\n",
    "        slope_vs_rss(clean_data[\"Year\"].dt.year, clean_data[F\"{country} - {education}\"])"
   ]
  },
  {
   "cell_type": "markdown",
   "metadata": {},
   "source": [
    "# Aufgabe 4\n",
    "\n",
    "----------------\n",
    "\n",
    "## Paaren von Bootstrap und Konfidenzintervallen\n",
    "\n",
    "Ausführen von `pairs_bootstrap` um eine Schätzung für den Slope von Bildung und Arbeitslosenrate zu beschreiben.\n",
    "\n",
    "## Methode\n",
    "- Slopes mit `pairs_bootstrap` berechnen und mit `plt.hist` plotten.\n",
    "- Konfidenzintervalle mit `np.percentile` berechnen.\n",
    "\n",
    "## Notiz\n",
    "Nur niedrige Bildungslevel Daten werden analysiert."
   ]
  },
  {
   "cell_type": "code",
   "execution_count": 6,
   "metadata": {},
   "outputs": [],
   "source": [
    "slopes, intercepts = pairs_bootstrap(clean_data[\"Year\"].dt.year, clean_data[\"Germany - Low\"], 1000)\n",
    "plt.xlabel(\"Slopes\")\n",
    "plt.ylabel(\"PDF\")\n",
    "_ = plt.hist(slopes, bins=50, density=True)\n",
    "print(\"Confidence interval: \", np.percentile(slopes, [2.5, 97.5]))"
   ]
  },
  {
   "cell_type": "markdown",
   "metadata": {},
   "source": [
    "# Aufgabe 5\n",
    "\n",
    "-------------------\n",
    "\n",
    "## Bootstrap regressions\n",
    "\n",
    "100 Zeilen von den Bootstrap werten von Aufgabe 4 werden geplottet"
   ]
  },
  {
   "cell_type": "code",
   "execution_count": 7,
   "metadata": {},
   "outputs": [],
   "source": [
    "x = np.array([clean_data[\"Year\"].dt.year.min(), clean_data[\"Year\"].dt.year.max()])\n",
    "for i in range(100):\n",
    "    _ = plt.plot(x, slopes[i] * x + intercepts[i], linewidth=0.5, alpha=0.3, color=\"red\")\n",
    "plot_single_data(clean_data, \"Germany - Low\")"
   ]
  },
  {
   "cell_type": "markdown",
   "metadata": {},
   "source": [
    "# Aufgabe 6\n",
    "\n",
    "-------------\n",
    "\n",
    "## Hypothesentest auf der Pearson Korrelation\n",
    "\n",
    "Null Hypothese: Die Arbeitslosenrate eines Landes basiert <b>nicht</b> auf dem Bildungslevel.\n",
    "\n",
    "## Methode\n",
    "- Berechnen der Pearson Werte von Arbeitslosigkeit und Bildungsrate.\n",
    "- Permutieren einiger Werte während die Bildungswerte unangetastet verbleiben.\n",
    "- Für jede Permutation wird die Pearson Korrelation berechnet. Außerdem wird berechnet, wie viele der Permutierten Replikate einen Pearson Korrelationskoeffizient haben, der größer ist als der Beobachtete.\n",
    "- Wenn der p Wert klein ist, wird die Hypothese: Die Arbeitslosenrate eines Landes basiert auf der Bildungsrate, angenommen (p<= 0,05).\n",
    "- Wenn der p-Wert höher ist, wird die Null Hypothese angenommen.\n",
    "\n",
    "## Ergebnisse\n",
    "- P-Werte mit Daten desselben Landes sind sehr niedrig.\n",
    "- Die Alternativ Hypothese wird angenommen: <b>Die Arbeitslosenrate eines Landes basiert auf der Bildungsrate</b>.\n",
    "\n"
    ]
    },
  {
   "cell_type": "markdown",
   "metadata": {},
   "source": [
    "# Aufgabe 7\n",
    "\n",
    "---------------\n",
    "\n",
    "## Ergebnisse und Fazit\n",
    "\n",
    "- Aufgaben 2 und 3:\n",
    "  - Die Arbeitslosenrate in Deutschland wird kleiner im Laufe der Zeit.\n",
    "  - Die Arbeitslosenrate in den USA wird größer für mittlere und hohe Bildungsraten.\n",
    "- Aufgabe 6:\n",
    "  - Die Arbeitslosenrate eines Landes basiert auf dem Bildungsniveau.\n",
    "  - Es gibt keine Verbindung der Bildungsraten zwischen USA und Deutschland.\n",
    "\n",
    "## A/B Test\n",
    "Definitione eines A/B Test : <b>2 seperate Gruppen interagieren mit zwei Varianten eines Systems, das nur in einem Punkt unterschiedlich ist</b>\n",
    "Das gegebene System von Arbeitslosen- und Bildungsrate passt <b>nicht</b> zu den Kriterien eines A/B Test. Begründet werden kann das durch die stetigkeit des Bildungssystems und die Existenz mehrerer Faktoren, die das Ergebnis beeinflussen.\n ",
    "\n",
    "## Bonferroni Test\n",
    "Wenn ein Test gegen die Null-Hypothese durchgeführt wird, gibt es immer die Möglichkeit eines falsch-positiven Ergebnisses. Um dies zu verhindern kann eine Bonferroni Korrektion angewendet werden.\n",
    "Bsp: die Error Rate 10% eträgt und 5 tests durchgeführt werden würde die die BK 0,1 / 5 = 0,2 betragen."
  
   
  
 ]
  }
  ],
 "metadata": {
  "interpreter": {
   "hash": "26d227989179591efb96050f4f37ef02bc544eefe0a989a8407a92540235d31b"
  },
  "kernelspec": {
   "display_name": "Python 3.8.5 64-bit ('venv': venv)",
   "name": "python3"
  },
  "language_info": {
   "codemirror_mode": {
    "name": "ipython",
    "version": 3
   },
   "file_extension": ".py",
   "mimetype": "text/x-python",
   "name": "python",
   "nbconvert_exporter": "python",
   "pygments_lexer": "ipython3",
   "version": "3.8.5"
  },
  "orig_nbformat": 4
 },
 "nbformat": 4,
 "nbformat_minor": 2
}
